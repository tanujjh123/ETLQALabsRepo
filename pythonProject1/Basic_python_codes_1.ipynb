{
 "cells": [
  {
   "cell_type": "code",
   "execution_count": 1,
   "id": "90e111de-3481-46cb-b3b3-13a19f5bcd4d",
   "metadata": {},
   "outputs": [],
   "source": [
    "companyName = \"ETL QA Labs\"\n"
   ]
  },
  {
   "cell_type": "code",
   "execution_count": 2,
   "id": "056a122f-2a2c-43ae-b30c-3f6c4fb1e53a",
   "metadata": {},
   "outputs": [
    {
     "name": "stdout",
     "output_type": "stream",
     "text": [
      "ETL QA Labs  ::  <class 'str'>\n"
     ]
    }
   ],
   "source": [
    "print(companyName, \" :: \", type(companyName))"
   ]
  },
  {
   "cell_type": "code",
   "execution_count": 4,
   "id": "f4f94f0e-4847-4e7b-8b86-474d605c247a",
   "metadata": {},
   "outputs": [],
   "source": [
    "noOfEmployees = 100"
   ]
  },
  {
   "cell_type": "code",
   "execution_count": 5,
   "id": "a843f2ad-30f6-42b5-9263-f1649f725851",
   "metadata": {},
   "outputs": [
    {
     "name": "stdout",
     "output_type": "stream",
     "text": [
      "100  ::  <class 'int'>\n"
     ]
    }
   ],
   "source": [
    "print(noOfEmployees, \" :: \", type(noOfEmployees))\n",
    "\n"
   ]
  },
  {
   "cell_type": "code",
   "execution_count": 6,
   "id": "678e2eeb-1a82-440d-89d4-9671b73aafe0",
   "metadata": {},
   "outputs": [],
   "source": [
    "turnover = 50.5"
   ]
  },
  {
   "cell_type": "code",
   "execution_count": 7,
   "id": "de47cb04-ff0a-4364-ac8f-e012fe62bec2",
   "metadata": {},
   "outputs": [
    {
     "name": "stdout",
     "output_type": "stream",
     "text": [
      "50.5  ::  <class 'float'>\n"
     ]
    }
   ],
   "source": [
    "print(turnover, \" :: \", type(turnover))"
   ]
  },
  {
   "cell_type": "code",
   "execution_count": 8,
   "id": "65ead130-a3f3-4642-b048-8e1354748a08",
   "metadata": {},
   "outputs": [],
   "source": [
    "elligibleForVoting = False"
   ]
  },
  {
   "cell_type": "code",
   "execution_count": 9,
   "id": "49b0598a-78c2-4ca1-b922-d9bbade52d94",
   "metadata": {},
   "outputs": [
    {
     "name": "stdout",
     "output_type": "stream",
     "text": [
      "False  ::  <class 'bool'>\n"
     ]
    }
   ],
   "source": [
    "print(elligibleForVoting, \" :: \", type(elligibleForVoting))"
   ]
  },
  {
   "cell_type": "code",
   "execution_count": 10,
   "id": "c4bf2fd8-e64f-42a5-9a7b-2faf3cf2b80f",
   "metadata": {},
   "outputs": [],
   "source": [
    "employeeNames = [\"Ram\", \"Shyam\", \"Ghanshyam\"]\n"
   ]
  },
  {
   "cell_type": "code",
   "execution_count": 11,
   "id": "e6753410-70e6-446f-8d71-df0794c380e6",
   "metadata": {},
   "outputs": [
    {
     "name": "stdout",
     "output_type": "stream",
     "text": [
      "['Ram', 'Shyam', 'Ghanshyam']  ::  <class 'list'>\n"
     ]
    }
   ],
   "source": [
    "print(employeeNames,\" :: \",type(employeeNames))"
   ]
  },
  {
   "cell_type": "code",
   "execution_count": 12,
   "id": "3ca51425-5251-4dab-9664-cf0471a169f7",
   "metadata": {},
   "outputs": [],
   "source": [
    "items = [\"washingmachine\", \"clothes\", 1, 5, True]"
   ]
  },
  {
   "cell_type": "code",
   "execution_count": 13,
   "id": "427007a8-ba2a-4e1f-bd10-bec7560d1e8d",
   "metadata": {},
   "outputs": [
    {
     "name": "stdout",
     "output_type": "stream",
     "text": [
      "['washingmachine', 'clothes', 1, 5, True]  ::  <class 'list'>\n"
     ]
    }
   ],
   "source": [
    "print(items,\" :: \",type(items))"
   ]
  },
  {
   "cell_type": "code",
   "execution_count": 14,
   "id": "fbf7c57d-85af-40d2-8028-25b8d53cfc57",
   "metadata": {},
   "outputs": [],
   "source": [
    "employeeNames = {\"Ram\", \"Shyam\", \"Ghanshyam\"}"
   ]
  },
  {
   "cell_type": "code",
   "execution_count": 15,
   "id": "2198b5d2-32b9-4f67-809d-8e529adf4ed5",
   "metadata": {},
   "outputs": [
    {
     "name": "stdout",
     "output_type": "stream",
     "text": [
      "{'Shyam', 'Ram', 'Ghanshyam'}  ::  <class 'set'>\n"
     ]
    }
   ],
   "source": [
    "print(employeeNames, \" :: \", type(employeeNames))"
   ]
  },
  {
   "cell_type": "code",
   "execution_count": 16,
   "id": "05e0e795-bbf2-4d42-9a09-6a9a7d189b8c",
   "metadata": {},
   "outputs": [],
   "source": [
    "employeeNames = (\"Ram\", \"Shyam\", \"Ghanshyam\")"
   ]
  },
  {
   "cell_type": "code",
   "execution_count": 17,
   "id": "482fb86c-66d8-4c7f-a2c8-3c7c1bc93095",
   "metadata": {},
   "outputs": [
    {
     "name": "stdout",
     "output_type": "stream",
     "text": [
      "('Ram', 'Shyam', 'Ghanshyam')  ::  <class 'tuple'>\n"
     ]
    }
   ],
   "source": [
    "print(employeeNames, \" :: \", type(employeeNames))"
   ]
  },
  {
   "cell_type": "code",
   "execution_count": 18,
   "id": "7081be06-88d4-451c-b216-8f38cda2c1a3",
   "metadata": {},
   "outputs": [],
   "source": [
    "rollNumberList = [4, 1, 2, 3, 4, 5, 1, 2]"
   ]
  },
  {
   "cell_type": "code",
   "execution_count": 19,
   "id": "e2cde33f-323d-49bd-b292-0612d35a92f5",
   "metadata": {},
   "outputs": [
    {
     "name": "stdout",
     "output_type": "stream",
     "text": [
      "list : [4, 1, 2, 3, 4, 5, 1, 2]\n"
     ]
    }
   ],
   "source": [
    "print(\"list :\", rollNumberList)"
   ]
  },
  {
   "cell_type": "code",
   "execution_count": 20,
   "id": "c2c906cd-30fc-45cf-bb47-446a5f44e6d6",
   "metadata": {},
   "outputs": [
    {
     "name": "stdout",
     "output_type": "stream",
     "text": [
      "no of unique elements in the list : 8\n"
     ]
    }
   ],
   "source": [
    "print(\"no of unique elements in the list :\", len(rollNumberList))"
   ]
  },
  {
   "cell_type": "code",
   "execution_count": 21,
   "id": "bb54b1e7-3e9c-4173-b15c-5d8e8f94eab1",
   "metadata": {},
   "outputs": [],
   "source": [
    "rollNumberSet = {4, 1, 2, 3, 4, 5, 1, 2, 4, 1, 2}"
   ]
  },
  {
   "cell_type": "code",
   "execution_count": 22,
   "id": "de8bf18d-de28-4033-9bbd-87b216c8c945",
   "metadata": {},
   "outputs": [
    {
     "name": "stdout",
     "output_type": "stream",
     "text": [
      "set elements : {1, 2, 3, 4, 5}\n"
     ]
    }
   ],
   "source": [
    "print(\"set elements :\", rollNumberSet)"
   ]
  },
  {
   "cell_type": "code",
   "execution_count": 23,
   "id": "3c479087-bde2-4d1c-a2aa-888c567d7989",
   "metadata": {},
   "outputs": [
    {
     "name": "stdout",
     "output_type": "stream",
     "text": [
      "no of unique elements in the set : 5\n"
     ]
    }
   ],
   "source": [
    "print(\"no of unique elements in the set :\", len(rollNumberSet))"
   ]
  },
  {
   "cell_type": "code",
   "execution_count": 24,
   "id": "ac378f7e-a66f-45c7-960b-a0d2180e8717",
   "metadata": {},
   "outputs": [],
   "source": [
    "empnoList = [1, 2, 3, 4, 5, 1, 2]"
   ]
  },
  {
   "cell_type": "code",
   "execution_count": 25,
   "id": "9c0ed948-4c9b-4f6e-b8c6-c7cd26cf4a96",
   "metadata": {},
   "outputs": [
    {
     "name": "stdout",
     "output_type": "stream",
     "text": [
      "original list  [1, 2, 3, 4, 5, 1, 2]  ::  <class 'list'>\n"
     ]
    }
   ],
   "source": [
    "print(\"original list \", empnoList, \" :: \", type(empnoList))"
   ]
  },
  {
   "cell_type": "code",
   "execution_count": 26,
   "id": "56cecbb7-32e2-4b3f-8ba8-ddf205a6bf4a",
   "metadata": {},
   "outputs": [],
   "source": [
    "empnoList.append(6)"
   ]
  },
  {
   "cell_type": "code",
   "execution_count": 27,
   "id": "476a102e-565c-4a1b-91fd-971230d8312a",
   "metadata": {},
   "outputs": [],
   "source": [
    "empnoList.append(7)"
   ]
  },
  {
   "cell_type": "code",
   "execution_count": 28,
   "id": "d64ca61b-f662-4bec-8f08-b2ec6a277561",
   "metadata": {},
   "outputs": [],
   "source": [
    "empnoList.insert(2, 10)"
   ]
  },
  {
   "cell_type": "code",
   "execution_count": 29,
   "id": "ccaf855a-cda9-4059-8cfe-7e9c9435bdd7",
   "metadata": {},
   "outputs": [
    {
     "name": "stdout",
     "output_type": "stream",
     "text": [
      "revise dlist  [1, 2, 10, 3, 4, 5, 1, 2, 6, 7]  ::  <class 'list'>\n"
     ]
    }
   ],
   "source": [
    "print(\"revise dlist \", empnoList, \" :: \", type(empnoList))"
   ]
  },
  {
   "cell_type": "code",
   "execution_count": 30,
   "id": "56f6962f-f2fe-4b6f-ab29-cc65e86961d4",
   "metadata": {},
   "outputs": [],
   "source": [
    "empnoTuple = (1, 2, 3, 4, 5, 1, 2)"
   ]
  },
  {
   "cell_type": "code",
   "execution_count": 31,
   "id": "f6be48fb-219f-4cbd-979e-2ed3634a4692",
   "metadata": {},
   "outputs": [
    {
     "name": "stdout",
     "output_type": "stream",
     "text": [
      "(1, 2, 3, 4, 5, 1, 2)  ::  <class 'tuple'>\n"
     ]
    }
   ],
   "source": [
    "print(empnoTuple, \" :: \", type(empnoTuple))"
   ]
  },
  {
   "cell_type": "code",
   "execution_count": 32,
   "id": "617cfbe3-a737-4c15-93e2-eb87af5e403c",
   "metadata": {},
   "outputs": [],
   "source": [
    "empDetails = {1: \"Ram\", 2: \"Shyam\", 3: \"Ghanshyam\", \"Ghanshyam\": \"ETL QA Labs\"}"
   ]
  },
  {
   "cell_type": "code",
   "execution_count": 36,
   "id": "5e267db8-caf6-45ed-be31-e6474ca8b6af",
   "metadata": {},
   "outputs": [
    {
     "name": "stdout",
     "output_type": "stream",
     "text": [
      "{1: 'Ram', 2: 'Shyam', 3: 'Ghanshyam', 'Ghanshyam': 'ETL QA Labs'}\n"
     ]
    }
   ],
   "source": [
    "print(empDetails)"
   ]
  },
  {
   "cell_type": "code",
   "execution_count": 37,
   "id": "d2b873b2-abff-4582-9a56-9786c0dcd9e0",
   "metadata": {},
   "outputs": [
    {
     "name": "stdout",
     "output_type": "stream",
     "text": [
      "ETL QA Labs\n"
     ]
    }
   ],
   "source": [
    "print(empDetails[\"Ghanshyam\"])"
   ]
  },
  {
   "cell_type": "code",
   "execution_count": null,
   "id": "ce09efca-e908-4784-bd77-ede0c7271fcd",
   "metadata": {},
   "outputs": [],
   "source": []
  }
 ],
 "metadata": {
  "kernelspec": {
   "display_name": "Python 3 (ipykernel)",
   "language": "python",
   "name": "python3"
  },
  "language_info": {
   "codemirror_mode": {
    "name": "ipython",
    "version": 3
   },
   "file_extension": ".py",
   "mimetype": "text/x-python",
   "name": "python",
   "nbconvert_exporter": "python",
   "pygments_lexer": "ipython3",
   "version": "3.13.0"
  }
 },
 "nbformat": 4,
 "nbformat_minor": 5
}
