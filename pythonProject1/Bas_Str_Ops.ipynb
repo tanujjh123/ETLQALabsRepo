{
 "cells": [
  {
   "cell_type": "code",
   "execution_count": 67,
   "id": "b13a3198-21d1-45cc-9857-2c346485a102",
   "metadata": {},
   "outputs": [],
   "source": [
    "address=\"Bangalore\""
   ]
  },
  {
   "cell_type": "code",
   "execution_count": 68,
   "id": "e33aadde-b87f-4130-8f30-cae68ebf2f2c",
   "metadata": {},
   "outputs": [],
   "source": [
    "size=len(address)"
   ]
  },
  {
   "cell_type": "code",
   "execution_count": 69,
   "id": "9b5ffbdc-5264-4cd3-a43b-c071ac3ccc64",
   "metadata": {},
   "outputs": [
    {
     "name": "stdout",
     "output_type": "stream",
     "text": [
      "B\n"
     ]
    }
   ],
   "source": [
    "print(address[0])"
   ]
  },
  {
   "cell_type": "code",
   "execution_count": 70,
   "id": "99fccfda-7317-4916-90c0-472d842a70b1",
   "metadata": {},
   "outputs": [
    {
     "name": "stdout",
     "output_type": "stream",
     "text": [
      "e\n"
     ]
    }
   ],
   "source": [
    "print(address[size-1])"
   ]
  },
  {
   "cell_type": "code",
   "execution_count": 71,
   "id": "c069c13a-ece2-4bf9-8b67-ce13672c8b7f",
   "metadata": {},
   "outputs": [],
   "source": [
    "name = \"Hetu\""
   ]
  },
  {
   "cell_type": "code",
   "execution_count": 72,
   "id": "b2a87ae2-adae-4bbd-b1a3-278fe829194f",
   "metadata": {},
   "outputs": [
    {
     "name": "stdout",
     "output_type": "stream",
     "text": [
      "HETU\n"
     ]
    }
   ],
   "source": [
    "print(name.upper())"
   ]
  },
  {
   "cell_type": "code",
   "execution_count": 73,
   "id": "82f08348-0c4a-4847-ac4b-1637933386e7",
   "metadata": {},
   "outputs": [],
   "source": [
    "s = \"Hello, World!\""
   ]
  },
  {
   "cell_type": "code",
   "execution_count": 74,
   "id": "9752870a-7a21-4156-b9c9-a90d7ebf3ff4",
   "metadata": {},
   "outputs": [],
   "source": [
    "substring = s[0:5] "
   ]
  },
  {
   "cell_type": "code",
   "execution_count": 75,
   "id": "bbdd75c0-b205-461a-91bd-fa6e10a474f1",
   "metadata": {},
   "outputs": [
    {
     "name": "stdout",
     "output_type": "stream",
     "text": [
      "Hello\n"
     ]
    }
   ],
   "source": [
    "print(substring)"
   ]
  },
  {
   "cell_type": "code",
   "execution_count": 51,
   "id": "cad28f32-2de6-4a9e-a8fb-b9824d28fb0a",
   "metadata": {},
   "outputs": [],
   "source": [
    "substring = s[7:]# Extracts 'World!'"
   ]
  },
  {
   "cell_type": "code",
   "execution_count": 52,
   "id": "fe63ff97-e3ef-4506-8cc6-52544d00f769",
   "metadata": {},
   "outputs": [
    {
     "name": "stdout",
     "output_type": "stream",
     "text": [
      "World!\n"
     ]
    }
   ],
   "source": [
    "print(substring)"
   ]
  },
  {
   "cell_type": "code",
   "execution_count": 53,
   "id": "2f3503d9-cc29-4c43-ab2a-bb86311f1c9e",
   "metadata": {},
   "outputs": [],
   "source": [
    "substring = s[:]# Extracts 'Hello, World!'"
   ]
  },
  {
   "cell_type": "code",
   "execution_count": 54,
   "id": "0cfc0787-3b09-4783-9b7b-338d4ba1e886",
   "metadata": {},
   "outputs": [
    {
     "name": "stdout",
     "output_type": "stream",
     "text": [
      "Hello, World!\n"
     ]
    }
   ],
   "source": [
    "print(substring)"
   ]
  },
  {
   "cell_type": "code",
   "execution_count": 55,
   "id": "1fa45c07-46de-493a-868e-94e6abf0d644",
   "metadata": {},
   "outputs": [],
   "source": [
    "s = \"Hello, World!\""
   ]
  },
  {
   "cell_type": "code",
   "execution_count": 56,
   "id": "7a5027f8-aaac-487f-84fd-f9dfb0c77744",
   "metadata": {},
   "outputs": [],
   "source": [
    "substring = s[-6:-1] # Extracts 'World'"
   ]
  },
  {
   "cell_type": "code",
   "execution_count": 58,
   "id": "60a7d6bc-e967-40e1-b9b3-19ea374c61a8",
   "metadata": {},
   "outputs": [
    {
     "name": "stdout",
     "output_type": "stream",
     "text": [
      "World\n"
     ]
    }
   ],
   "source": [
    "print(substring)"
   ]
  }
 ],
 "metadata": {
  "kernelspec": {
   "display_name": "Python 3 (ipykernel)",
   "language": "python",
   "name": "python3"
  },
  "language_info": {
   "codemirror_mode": {
    "name": "ipython",
    "version": 3
   },
   "file_extension": ".py",
   "mimetype": "text/x-python",
   "name": "python",
   "nbconvert_exporter": "python",
   "pygments_lexer": "ipython3",
   "version": "3.13.0"
  }
 },
 "nbformat": 4,
 "nbformat_minor": 5
}
