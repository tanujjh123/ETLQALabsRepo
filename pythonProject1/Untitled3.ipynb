{
 "cells": [
  {
   "cell_type": "code",
   "execution_count": 1,
   "id": "8f4c3bec-3108-463b-b970-42f3ab0e3dbc",
   "metadata": {},
   "outputs": [],
   "source": [
    "import pandas as pd\n"
   ]
  },
  {
   "cell_type": "code",
   "execution_count": 2,
   "id": "d643c595-d468-4fdd-b2dc-5657612f1872",
   "metadata": {},
   "outputs": [],
   "source": [
    "df=pd.read_csv('sales_data.csv')"
   ]
  },
  {
   "cell_type": "code",
   "execution_count": 3,
   "id": "e2d7b738-cd2d-4c37-92ae-2450c51e586f",
   "metadata": {},
   "outputs": [
    {
     "name": "stdout",
     "output_type": "stream",
     "text": [
      "   sales_id  product_id  store_id  quantity  price   sale_date region\n",
      "0         7         107         1         4   22.0  2024-09-07   High\n",
      "1         8         108         2         6   24.0  2024-09-08    Low\n",
      "2         9         109         3        11   19.0  2024-09-09   High\n",
      "3        10         110         4         9   17.0  2024-09-10    Low\n",
      "4         1         101         1        10   15.0  2024-09-01   High\n",
      "5         2         102         1         5   25.0  2024-09-01    Low\n",
      "6         3         103         2         7   20.0  2024-09-02   High\n",
      "7         4         104         2         3   30.0  2024-09-03    Low\n",
      "8         5         105         1        12   12.0  2024-09-05   High\n",
      "9         6         106         3         8   18.0  2024-09-06    Low\n"
     ]
    }
   ],
   "source": [
    "print (df)"
   ]
  },
  {
   "cell_type": "code",
   "execution_count": null,
   "id": "87fa13e3-333d-4afb-840e-962e647183c0",
   "metadata": {},
   "outputs": [],
   "source": []
  }
 ],
 "metadata": {
  "kernelspec": {
   "display_name": "Python 3 (ipykernel)",
   "language": "python",
   "name": "python3"
  },
  "language_info": {
   "codemirror_mode": {
    "name": "ipython",
    "version": 3
   },
   "file_extension": ".py",
   "mimetype": "text/x-python",
   "name": "python",
   "nbconvert_exporter": "python",
   "pygments_lexer": "ipython3",
   "version": "3.13.0"
  }
 },
 "nbformat": 4,
 "nbformat_minor": 5
}
